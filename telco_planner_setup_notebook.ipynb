{
 "cells": [
  {
   "cell_type": "markdown",
   "metadata": {},
   "source": [
    "# Network Performance Planner Installation guidance\n",
    "This notebook outlines the setup and usage of the Network Performance Planner blueprint, which leverages an agentic AI workflow for dynamic telecom network optimization."
   ]
  },
  {
   "cell_type": "markdown",
   "metadata": {},
   "source": [
    "## Step 1: Clone the Repository"
   ]
  },
  {
   "cell_type": "code",
   "execution_count": null,
   "metadata": {},
   "outputs": [],
   "source": [
    "!git clone https://github.com/bubbleran/Telco-Network-Configuration.git"
   ]
  },
  {
   "cell_type": "markdown",
   "metadata": {},
   "source": [
    "## Step 2: Set Up Environment Variables\n",
    "Before running any services, export your NVIDIA API key and prepare the local cache. If you do not have the NVIDIA API key, please follow these steps to create one:\n",
    "1. Visit build.nvidia.com\n",
    "2. Create an account\n",
    "3. Click your account icon in the screen upper corner\n",
    "4. Select API keys from the menu\n",
    "5. Press Generate API key\n",
    "\n",
    "Once you have a valid API key, edit the /Telco-Network-Configuration/config.yaml  and add the NVIDIA API KEY.\n",
    "Also review the other configuration parameters for the blueprint."
   ]
  },
  {
   "cell_type": "code",
   "execution_count": null,
   "metadata": {},
   "outputs": [],
   "source": [
    "import yaml\n",
    "import os\n",
    "from os.path import expanduser\n",
    "\n",
    "NGC_API_KEY=yaml.safe_load(open('Telco-Network-Configuration/config.yaml', 'r'))['nvidia_api_key']\n",
    "os.environ[\"NGC_API_KEY\"] = NGC_API_KEY"
   ]
  },
  {
   "cell_type": "markdown",
   "metadata": {},
   "source": [
    "## Step 3: Run NIM Container (Optional - for Local NIM Hosting)"
   ]
  },
  {
   "cell_type": "code",
   "execution_count": null,
   "metadata": {},
   "outputs": [],
   "source": [
    "os.environ[\"LOCAL_NIM_CACHE\"]=expanduser(\"~/.cache/nim\")\n",
    "!mkdir -p {os.environ[\"LOCAL_NIM_CACHE\"]}\n",
    "!sudo chmod -R 777 {os.environ[\"LOCAL_NIM_CACHE\"]}\n",
    "\n",
    "!echo $NGC_API_KEY | docker login -u '$oauthtoken' --password-stdin nvcr.io \n",
    "\n",
    "!docker run -d --rm \\\n",
    "    --name llama3.1-70b-container \\\n",
    "    --gpus all \\\n",
    "    --shm-size=16GB \\\n",
    "    -e NGC_API_KEY={os.environ[\"NGC_API_KEY\"]} \\\n",
    "    -v {os.environ[\"LOCAL_NIM_CACHE\"]}:/opt/nim/.cache \\\n",
    "    -p 8000:8000 \\\n",
    "    nvcr.io/nim/meta/llama-3.1-70b-instruct:latest\n"
   ]
  },
  {
   "cell_type": "markdown",
   "metadata": {},
   "source": [
    "It might take 5-10 minutes to setup the LLama-3.1-70b. Monitor the status of the NIM using the docker logs by running the command below. You can rerun the following command to check the status. Once it is ready, it should output `Uvicorn running on http://0.0.0.0:8000`"
   ]
  },
  {
   "cell_type": "code",
   "execution_count": null,
   "metadata": {},
   "outputs": [],
   "source": [
    "!docker logs --tail 10 llama3.1-70b-container"
   ]
  },
  {
   "cell_type": "markdown",
   "metadata": {},
   "source": [
    "To update the config.yaml file to use endpoints of this locally hosted NIMs instead of API catalog endpoints, set `NIM_mode: True`."
   ]
  },
  {
   "cell_type": "markdown",
   "metadata": {},
   "source": [
    "## Step 4: Set Up Python Environment"
   ]
  },
  {
   "cell_type": "code",
   "execution_count": null,
   "metadata": {},
   "outputs": [],
   "source": [
    "!pip install virtualenv\n",
    "!python3.10 -m virtualenv bp_env\n",
    "!source bp_env/bin/activate && pip install -r Telco-Network-Configuration/requirements.txt"
   ]
  },
  {
   "cell_type": "markdown",
   "metadata": {},
   "source": [
    "## Step 5: Start the Streamlit UI"
   ]
  },
  {
   "cell_type": "code",
   "execution_count": null,
   "metadata": {},
   "outputs": [],
   "source": [
    "!source bp_env/bin/activate && cd Telco-Network-Configuration && streamlit run telco_planner_ui.py"
   ]
  },
  {
   "cell_type": "markdown",
   "metadata": {},
   "source": [
    "## Step 6: Reset the Environment (Optional)"
   ]
  },
  {
   "cell_type": "markdown",
   "metadata": {},
   "source": [
    "To stop the application, please stop the kernel of the above cell."
   ]
  },
  {
   "cell_type": "code",
   "execution_count": null,
   "metadata": {},
   "outputs": [],
   "source": [
    "!bash ./Telco-Network-Configuration/agentic_llm_workflow/reset.sh"
   ]
  },
  {
   "cell_type": "code",
   "execution_count": null,
   "metadata": {},
   "outputs": [],
   "source": [
    "!docker stop llama3.1-70b-container"
   ]
  },
  {
   "cell_type": "markdown",
   "metadata": {},
   "source": [
    "## Notes:\n",
    "- This blueprint supports BubbleRAN simulation or USRP-based real-device environments.\n",
    "- The agentic system includes Config, Validation, and Monitoring agents for continuous network optimization."
   ]
  }
 ],
 "metadata": {
  "kernelspec": {
   "display_name": "Python 3 (ipykernel)",
   "language": "python",
   "name": "python3"
  },
  "language_info": {
   "codemirror_mode": {
    "name": "ipython",
    "version": 3
   },
   "file_extension": ".py",
   "mimetype": "text/x-python",
   "name": "python",
   "nbconvert_exporter": "python",
   "pygments_lexer": "ipython3",
   "version": "3.10.12"
  }
 },
 "nbformat": 4,
 "nbformat_minor": 4
}
